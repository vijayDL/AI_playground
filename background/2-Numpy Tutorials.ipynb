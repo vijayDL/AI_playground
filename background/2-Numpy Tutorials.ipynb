{
 "cells": [
  {
   "cell_type": "markdown",
   "metadata": {},
   "source": [
    "# Numpy Tutorials"
   ]
  },
  {
   "cell_type": "markdown",
   "metadata": {},
   "source": [
    "## 1. What are NumPy\n",
    "- extension package to Python for multi-dimensional arrays\n",
    "- efficient hardware implementation\n",
    "- designed for scientific computation\n",
    "- Does *array oriented computing *"
   ]
  },
  {
   "cell_type": "code",
   "execution_count": 1,
   "metadata": {},
   "outputs": [
    {
     "name": "stdout",
     "output_type": "stream",
     "text": [
      "[0 1 2 3]\n"
     ]
    }
   ],
   "source": [
    "import numpy as np\n",
    "a = np.array([0, 1, 2, 3])\n",
    "print(a)"
   ]
  },
  {
   "cell_type": "code",
   "execution_count": 2,
   "metadata": {},
   "outputs": [
    {
     "name": "stdout",
     "output_type": "stream",
     "text": [
      "194 µs ± 1.25 µs per loop (mean ± std. dev. of 7 runs, 1000 loops each)\n",
      "2.33 µs ± 13.4 ns per loop (mean ± std. dev. of 7 runs, 100000 loops each)\n"
     ]
    }
   ],
   "source": [
    "# Memory efficient and provides fast numerical operations\n",
    "\n",
    "# Python way\n",
    "%timeit [i**2 for i in range(1000)]\n",
    "\n",
    "# Numpy way\n",
    "%timeit np.arange(1000) ** 2"
   ]
  },
  {
   "cell_type": "markdown",
   "metadata": {},
   "source": [
    "### 1.1 Creating arrays"
   ]
  },
  {
   "cell_type": "code",
   "execution_count": 6,
   "metadata": {},
   "outputs": [
    {
     "name": "stdout",
     "output_type": "stream",
     "text": [
      "array -> [1. 3. 5.]\n",
      "dim -> 1\n",
      "shape -> (3,)\n"
     ]
    }
   ],
   "source": [
    "#1-D:\n",
    "a = np.array([1.,3., 5.])\n",
    "print('array ->',a)\n",
    "#get dimension\n",
    "print('dim ->',a.ndim)\n",
    "#get shape\n",
    "print('shape ->',a.shape)"
   ]
  },
  {
   "cell_type": "code",
   "execution_count": 7,
   "metadata": {},
   "outputs": [
    {
     "name": "stdout",
     "output_type": "stream",
     "text": [
      "array -> [[0 1 2]\n",
      " [3 4 5]]\n",
      "dim -> 2\n",
      "shape -> (2, 3)\n"
     ]
    }
   ],
   "source": [
    "#2-D\n",
    "b = np.array([[0, 1, 2], [3, 4, 5]])\n",
    "\n",
    "print('array ->',b)\n",
    "#get dimension\n",
    "print('dim ->',b.ndim)\n",
    "#get shape\n",
    "print('shape ->',b.shape)"
   ]
  },
  {
   "cell_type": "code",
   "execution_count": 8,
   "metadata": {},
   "outputs": [
    {
     "name": "stdout",
     "output_type": "stream",
     "text": [
      "array -> [[0 1]\n",
      " [2 3]\n",
      " [4 5]]\n",
      "dim -> 2\n",
      "shape -> (3, 2)\n"
     ]
    }
   ],
   "source": [
    "#3-D\n",
    "c = np.array([[0, 1],[2, 3], [4, 5]])\n",
    "\n",
    "print('array ->',c)\n",
    "#get dimension\n",
    "print('dim ->',c.ndim)\n",
    "#get shape\n",
    "print('shape ->',c.shape)"
   ]
  },
  {
   "cell_type": "code",
   "execution_count": 9,
   "metadata": {},
   "outputs": [
    {
     "name": "stdout",
     "output_type": "stream",
     "text": [
      "a -> [0 1 2 3 4 5 6 7 8 9]\n",
      "b -> [1 3 5 7 9]\n"
     ]
    }
   ],
   "source": [
    "### 1.2 Functions for creating arrays\n",
    "\n",
    "# even spaced:\n",
    "\n",
    "a = np.arange(10)\n",
    "print('a ->', a)\n",
    "b = np.arange(1,10,2)\n",
    "print('b ->', b)"
   ]
  },
  {
   "cell_type": "code",
   "execution_count": 10,
   "metadata": {},
   "outputs": [
    {
     "name": "stdout",
     "output_type": "stream",
     "text": [
      "c -> [0.  0.2 0.4 0.6 0.8 1. ]\n"
     ]
    }
   ],
   "source": [
    "# by number of points\n",
    "c = np.linspace(0, 1, 6) # start, end, num-points\n",
    "print('c ->', c)"
   ]
  },
  {
   "cell_type": "code",
   "execution_count": 13,
   "metadata": {},
   "outputs": [
    {
     "name": "stdout",
     "output_type": "stream",
     "text": [
      "ones -> [[1. 1. 1.]\n",
      " [1. 1. 1.]]\n",
      "-------\n",
      "zeros -> [[0. 0. 0.]\n",
      " [0. 0. 0.]\n",
      " [0. 0. 0.]]\n",
      "-------\n",
      "zeros -> [[1. 0. 0.]\n",
      " [0. 1. 0.]\n",
      " [0. 0. 1.]]\n",
      "-------\n",
      "zeros -> [[1 0 0]\n",
      " [0 3 0]\n",
      " [0 0 5]]\n",
      "-------\n"
     ]
    }
   ],
   "source": [
    "# ones and zeros\n",
    "\n",
    "ones = np.ones((2,3))\n",
    "print('ones ->', ones)\n",
    "print('-------')\n",
    "\n",
    "zeros = np.zeros((3,3))\n",
    "print('zeros ->', zeros)\n",
    "print('-------')\n",
    "\n",
    "eye = np.eye(3)\n",
    "print('zeros ->', eye)\n",
    "print('-------')\n",
    "\n",
    "diag = np.diag([1,3,5])\n",
    "print('zeros ->', diag)\n",
    "print('-------')"
   ]
  },
  {
   "cell_type": "code",
   "execution_count": 16,
   "metadata": {},
   "outputs": [
    {
     "name": "stdout",
     "output_type": "stream",
     "text": [
      "uniform -> [0.74617943 0.19543715 0.27492414 0.52889715]\n",
      "Gauss -> [-0.09875288 -0.67276488  0.62794001 -1.02220416]\n"
     ]
    }
   ],
   "source": [
    "# random arrays\n",
    "uniform = np.random.rand(4) #uniform in [0-1]\n",
    "print('uniform ->', uniform)\n",
    "\n",
    "gauss = np.random.normal(0, 1., size=(4)) # Gaussian with mean=0 and var=1.\n",
    "print('Gauss ->', gauss)"
   ]
  },
  {
   "cell_type": "markdown",
   "metadata": {},
   "source": [
    "### 1.3 Basic data types\n"
   ]
  },
  {
   "cell_type": "code",
   "execution_count": 20,
   "metadata": {},
   "outputs": [
    {
     "name": "stdout",
     "output_type": "stream",
     "text": [
      "dtype of a -> int64\n",
      "dtype of b -> float64\n",
      "dtype of c -> bool\n",
      "dtype of c -> <U7\n"
     ]
    }
   ],
   "source": [
    "a = np.array([1,2,3])\n",
    "print('dtype of a ->', a.dtype)\n",
    "\n",
    "b = np.array([1.,2.,3.])\n",
    "print('dtype of b ->', b.dtype)\n",
    "\n",
    "c = np.array([True, False, False, True])\n",
    "print('dtype of c ->', c.dtype)\n",
    "\n",
    "d = np.array(['Bonjour', 'Hello', 'Hallo'])\n",
    "print('dtype of c ->', d.dtype)"
   ]
  },
  {
   "cell_type": "markdown",
   "metadata": {},
   "source": [
    "### 1.4 Visualization"
   ]
  },
  {
   "cell_type": "code",
   "execution_count": 22,
   "metadata": {},
   "outputs": [],
   "source": [
    "# using the matplotlib plotting package\n",
    "import matplotlib.pyplot as plt\n",
    "\n",
    "# for jupyter notebook plots inside the notebook\n",
    "%matplotlib inline \n"
   ]
  },
  {
   "cell_type": "code",
   "execution_count": 23,
   "metadata": {},
   "outputs": [
    {
     "data": {
      "text/plain": [
       "[<matplotlib.lines.Line2D at 0x7f50de93e048>]"
      ]
     },
     "execution_count": 23,
     "metadata": {},
     "output_type": "execute_result"
    },
    {
     "data": {
      "image/png": "[encoded data removed]",
      "text/plain": [
       "<Figure size 432x288 with 1 Axes>"
      ]
     },
     "metadata": {},
     "output_type": "display_data"
    }
   ],
   "source": [
    "# 1-D plotting\n",
    "x = np.linspace(0,3,20)\n",
    "y = np.linspace(0,9,20)\n",
    "plt.plot(x,y) # line plot"
   ]
  },
  {
   "cell_type": "code",
   "execution_count": 25,
   "metadata": {},
   "outputs": [
    {
     "data": {
      "text/plain": [
       "[<matplotlib.lines.Line2D at 0x7f50dc864a58>]"
      ]
     },
     "execution_count": 25,
     "metadata": {},
     "output_type": "execute_result"
    },
    {
     "data": {
      "image/png": "[encoded data removed]",
      "text/plain": [
       "<Figure size 432x288 with 1 Axes>"
      ]
     },
     "metadata": {},
     "output_type": "display_data"
    }
   ],
   "source": [
    "plt.plot(x,y, '*')"
   ]
  },
  {
   "cell_type": "code",
   "execution_count": 26,
   "metadata": {},
   "outputs": [
    {
     "data": {
      "text/plain": [
       "<matplotlib.image.AxesImage at 0x7f50dc81d400>"
      ]
     },
     "execution_count": 26,
     "metadata": {},
     "output_type": "execute_result"
    },
    {
     "data": {
      "image/png": "[encoded data removed]",
      "text/plain": [
       "<Figure size 432x288 with 1 Axes>"
      ]
     },
     "metadata": {},
     "output_type": "display_data"
    }
   ],
   "source": [
    "# 2-D plotting\n",
    "image = np.random.normal(0,1.,(30, 30))\n",
    "plt.imshow(image)"
   ]
  },
  {
   "cell_type": "code",
   "execution_count": 36,
   "metadata": {},
   "outputs": [
    {
     "data": {
      "text/plain": [
       "[<matplotlib.lines.Line2D at 0x7f50dc5c9b70>]"
      ]
     },
     "execution_count": 36,
     "metadata": {},
     "output_type": "execute_result"
    },
    {
     "data": {
      "image/png": "[encoded data removed]",
      "text/plain": [
       "<Figure size 432x288 with 1 Axes>"
      ]
     },
     "metadata": {},
     "output_type": "display_data"
    }
   ],
   "source": [
    "# Plotting a sine wave\n",
    "# y = sin(2*pi*t)\n",
    "\n",
    "t = np.linspace(0,2*np.pi,100) # get 100 points between 0 and 2*pi\n",
    "y = np.sin(2*np.pi*t)\n",
    "plt.plot(t,y)"
   ]
  },
  {
   "cell_type": "markdown",
   "metadata": {},
   "source": [
    "### 1.5 Indexing and slicing"
   ]
  },
  {
   "cell_type": "code",
   "execution_count": 39,
   "metadata": {},
   "outputs": [
    {
     "name": "stdout",
     "output_type": "stream",
     "text": [
      "a-> [0 1 2 3 4 5 6 7 8 9]\n",
      "First element -> 0\n",
      "Last element ->, 9\n"
     ]
    }
   ],
   "source": [
    "a = np.arange(10)\n",
    "print('a->', a)\n",
    "print('First element ->',a[0])\n",
    "print('Last element ->,', a[-1])"
   ]
  },
  {
   "cell_type": "code",
   "execution_count": 40,
   "metadata": {},
   "outputs": [
    {
     "name": "stdout",
     "output_type": "stream",
     "text": [
      " reverse -> [9 8 7 6 5 4 3 2 1 0]\n"
     ]
    }
   ],
   "source": [
    "# reverse the elements\n",
    "print(' reverse ->', a[::-1])"
   ]
  },
  {
   "cell_type": "code",
   "execution_count": 42,
   "metadata": {},
   "outputs": [
    {
     "name": "stdout",
     "output_type": "stream",
     "text": [
      "b-> [[0 0 0]\n",
      " [0 1 0]\n",
      " [0 0 2]]\n"
     ]
    }
   ],
   "source": [
    "# for n-d arrays\n",
    "b = np.diag(np.arange(3))\n",
    "print('b->',b)"
   ]
  },
  {
   "cell_type": "code",
   "execution_count": 44,
   "metadata": {},
   "outputs": [
    {
     "name": "stdout",
     "output_type": "stream",
     "text": [
      "b[1,1]: 1\n"
     ]
    }
   ],
   "source": [
    "# one element\n",
    "print('b[1,1]:', b[1,1])"
   ]
  },
  {
   "cell_type": "code",
   "execution_count": 45,
   "metadata": {},
   "outputs": [
    {
     "name": "stdout",
     "output_type": "stream",
     "text": [
      "Second row: [0 1 0]\n"
     ]
    }
   ],
   "source": [
    "# one row\n",
    "print('Second row:', b[1])"
   ]
  },
  {
   "cell_type": "code",
   "execution_count": 47,
   "metadata": {},
   "outputs": [
    {
     "name": "stdout",
     "output_type": "stream",
     "text": [
      "last column: [0 0 2]\n"
     ]
    }
   ],
   "source": [
    "# one column\n",
    "print('last column:', b[:,-1])"
   ]
  },
  {
   "cell_type": "code",
   "execution_count": 48,
   "metadata": {},
   "outputs": [
    {
     "name": "stdout",
     "output_type": "stream",
     "text": [
      "Slice a: [2 5 8]\n"
     ]
    }
   ],
   "source": [
    "# Slicing elements in a array\n",
    "a = np.arange(10)\n",
    "print('Slice a:', a[2:9:3]) # [start:end:step]"
   ]
  },
  {
   "cell_type": "code",
   "execution_count": 49,
   "metadata": {},
   "outputs": [
    {
     "data": {
      "text/plain": [
       "array([0, 2, 4, 6, 8])"
      ]
     },
     "execution_count": 49,
     "metadata": {},
     "output_type": "execute_result"
    }
   ],
   "source": [
    "# just applying step (subsampling)\n",
    "a[::2]"
   ]
  },
  {
   "cell_type": "code",
   "execution_count": 50,
   "metadata": {},
   "outputs": [
    {
     "data": {
      "text/plain": [
       "array([3, 4, 5, 6, 7, 8, 9])"
      ]
     },
     "execution_count": 50,
     "metadata": {},
     "output_type": "execute_result"
    }
   ],
   "source": [
    "#just applying 'start'\n",
    "a[3:]"
   ]
  },
  {
   "cell_type": "code",
   "execution_count": 52,
   "metadata": {},
   "outputs": [
    {
     "name": "stdout",
     "output_type": "stream",
     "text": [
      "[0 1 2 3 4 4 3 2 1 0]\n"
     ]
    }
   ],
   "source": [
    "# combine assignment and slicing\n",
    "a = np.arange(10)\n",
    "b = np.arange(5)\n",
    "a[5:] = b[::-1] # reverse b and assign to a from index 5\n",
    "print(a)"
   ]
  },
  {
   "cell_type": "markdown",
   "metadata": {},
   "source": [
    "### 1.6 Copies and Views\n"
   ]
  },
  {
   "cell_type": "code",
   "execution_count": 54,
   "metadata": {},
   "outputs": [
    {
     "data": {
      "text/plain": [
       "True"
      ]
     },
     "execution_count": 54,
     "metadata": {},
     "output_type": "execute_result"
    }
   ],
   "source": [
    "a = np.arange(10)\n",
    "b = a[::2] # The slicing block creates a view of the original array. The two arrays share the same memory block\n",
    "\n",
    "#check using may_shaore_memory()\n",
    "np.may_share_memory(a, b)"
   ]
  },
  {
   "cell_type": "code",
   "execution_count": 55,
   "metadata": {},
   "outputs": [
    {
     "data": {
      "text/plain": [
       "False"
      ]
     },
     "execution_count": 55,
     "metadata": {},
     "output_type": "execute_result"
    }
   ],
   "source": [
    "# force a copy\n",
    "c = a[::2].copy()\n",
    "np.may_share_memory(a, c)"
   ]
  },
  {
   "cell_type": "markdown",
   "metadata": {},
   "source": [
    "### 1.7 Fancy indexing\n"
   ]
  },
  {
   "cell_type": "code",
   "execution_count": 56,
   "metadata": {},
   "outputs": [
    {
     "name": "stdout",
     "output_type": "stream",
     "text": [
      "a-> [7 4 5 8 9 5 0 3 4 6]\n"
     ]
    }
   ],
   "source": [
    "# Use boolean mask\n",
    "a = np.random.randint(0, 10, 10)\n",
    "print('a->',a)"
   ]
  },
  {
   "cell_type": "code",
   "execution_count": 57,
   "metadata": {},
   "outputs": [
    {
     "name": "stdout",
     "output_type": "stream",
     "text": [
      "mask-> [False False False False  True False  True  True False  True]\n"
     ]
    }
   ],
   "source": [
    "mask = (a%3 ==0)\n",
    "print('mask->', mask)"
   ]
  },
  {
   "cell_type": "code",
   "execution_count": 58,
   "metadata": {},
   "outputs": [
    {
     "name": "stdout",
     "output_type": "stream",
     "text": [
      "Extract: [9 0 3 6]\n"
     ]
    }
   ],
   "source": [
    "print('Extract:', a[mask])"
   ]
  },
  {
   "cell_type": "code",
   "execution_count": 60,
   "metadata": {},
   "outputs": [
    {
     "name": "stdout",
     "output_type": "stream",
     "text": [
      "a -> [ 7  4  5  8 -1  5 -1 -1  4 -1]\n"
     ]
    }
   ],
   "source": [
    "#Indexing with mask\n",
    "a[a%3 == 0] = -1\n",
    "print('a ->',a)"
   ]
  },
  {
   "cell_type": "code",
   "execution_count": 61,
   "metadata": {},
   "outputs": [
    {
     "name": "stdout",
     "output_type": "stream",
     "text": [
      "[4 8 5]\n"
     ]
    }
   ],
   "source": [
    "# indexing with array of integers\n",
    "b = [1, 3, 5]\n",
    "print(a[b])"
   ]
  },
  {
   "cell_type": "markdown",
   "metadata": {},
   "source": [
    "## 2 Numerical operations on arrays"
   ]
  },
  {
   "cell_type": "markdown",
   "metadata": {},
   "source": [
    "### 2.1 Element-wise operations\n"
   ]
  },
  {
   "cell_type": "code",
   "execution_count": 62,
   "metadata": {},
   "outputs": [
    {
     "name": "stdout",
     "output_type": "stream",
     "text": [
      "a-> [2 3 4 5]\n"
     ]
    }
   ],
   "source": [
    "# with scalars\n",
    "a = np.array([1,2,3,4])\n",
    "a += 1\n",
    "print('a->',a)"
   ]
  },
  {
   "cell_type": "code",
   "execution_count": 63,
   "metadata": {},
   "outputs": [
    {
     "name": "stdout",
     "output_type": "stream",
     "text": [
      "2^a: [ 4  8 16 32]\n"
     ]
    }
   ],
   "source": [
    "print('2^a:', 2**a)"
   ]
  },
  {
   "cell_type": "code",
   "execution_count": 64,
   "metadata": {},
   "outputs": [
    {
     "name": "stdout",
     "output_type": "stream",
     "text": [
      "a-b -> [1. 2. 3. 4.]\n"
     ]
    }
   ],
   "source": [
    "# arithmetic operation\n",
    "b = np.ones(4)\n",
    "print('a-b ->', a-b)"
   ]
  },
  {
   "cell_type": "code",
   "execution_count": 67,
   "metadata": {},
   "outputs": [
    {
     "name": "stdout",
     "output_type": "stream",
     "text": [
      "c*c -> [[1. 1. 1.]\n",
      " [1. 1. 1.]\n",
      " [1. 1. 1.]]\n"
     ]
    }
   ],
   "source": [
    "# array multiplication --> is NOT matrix multiplication\n",
    "c = np.ones((3,3))\n",
    "print('c*c ->', c*c)"
   ]
  },
  {
   "cell_type": "code",
   "execution_count": 68,
   "metadata": {},
   "outputs": [
    {
     "name": "stdout",
     "output_type": "stream",
     "text": [
      "c x c -> [[3. 3. 3.]\n",
      " [3. 3. 3.]\n",
      " [3. 3. 3.]]\n"
     ]
    }
   ],
   "source": [
    "#matrix multiplication\n",
    "print('c x c ->',c.dot(c))"
   ]
  },
  {
   "cell_type": "code",
   "execution_count": 69,
   "metadata": {},
   "outputs": [
    {
     "data": {
      "text/plain": [
       "array([False,  True, False,  True])"
      ]
     },
     "execution_count": 69,
     "metadata": {},
     "output_type": "execute_result"
    }
   ],
   "source": [
    "# comparisons\n",
    "a = np.array([1, 2, 3, 4])\n",
    "b = np.array([4, 2, 2, 4])\n",
    "a == b"
   ]
  },
  {
   "cell_type": "code",
   "execution_count": 70,
   "metadata": {},
   "outputs": [
    {
     "data": {
      "text/plain": [
       "False"
      ]
     },
     "execution_count": 70,
     "metadata": {},
     "output_type": "execute_result"
    }
   ],
   "source": [
    "# array wise comparison\n",
    "np.array_equal(a,b)"
   ]
  },
  {
   "cell_type": "code",
   "execution_count": 71,
   "metadata": {},
   "outputs": [
    {
     "data": {
      "text/plain": [
       "array([ True,  True,  True, False])"
      ]
     },
     "execution_count": 71,
     "metadata": {},
     "output_type": "execute_result"
    }
   ],
   "source": [
    "# logical operations\n",
    "a = np.array([1, 1, 0, 0], dtype=bool)\n",
    "b = np.array([1, 0, 1, 0], dtype=bool)\n",
    "np.logical_or(a, b)\n"
   ]
  },
  {
   "cell_type": "code",
   "execution_count": 72,
   "metadata": {},
   "outputs": [
    {
     "name": "stdout",
     "output_type": "stream",
     "text": [
      "a -> [[0. 1. 1.]\n",
      " [0. 0. 1.]\n",
      " [0. 0. 0.]]\n",
      " transpose a -> [[0. 0. 0.]\n",
      " [1. 0. 0.]\n",
      " [1. 1. 0.]]\n"
     ]
    }
   ],
   "source": [
    "# transpose\n",
    "a = np.triu(np.ones((3, 3)), 1)\n",
    "print('a ->',a)\n",
    "print(' transpose a ->',a.T)"
   ]
  },
  {
   "cell_type": "markdown",
   "metadata": {},
   "source": [
    "### 2.3 Basic reductions"
   ]
  },
  {
   "cell_type": "code",
   "execution_count": 75,
   "metadata": {},
   "outputs": [
    {
     "name": "stdout",
     "output_type": "stream",
     "text": [
      "Sum of x -> 21\n",
      "Sum across colums -> [5 7 9]\n",
      "Sum across rows -> [ 6 15]\n"
     ]
    }
   ],
   "source": [
    "#computing sums\n",
    "x = np.array([[1,2,3], [4,5,6]])\n",
    "print('Sum of x ->', np.sum(x))\n",
    "print('Sum across colums ->', np.sum(x,axis=0))\n",
    "print('Sum across rows ->', np.sum(x,axis=1))"
   ]
  },
  {
   "cell_type": "code",
   "execution_count": 76,
   "metadata": {},
   "outputs": [
    {
     "data": {
      "text/plain": [
       "(6, 15)"
      ]
     },
     "execution_count": 76,
     "metadata": {},
     "output_type": "execute_result"
    }
   ],
   "source": [
    "# Operate on individual rows or colums sum\n",
    "x[0,:].sum(), x[1,:].sum()"
   ]
  },
  {
   "cell_type": "code",
   "execution_count": 78,
   "metadata": {},
   "outputs": [
    {
     "name": "stdout",
     "output_type": "stream",
     "text": [
      "max of x -> 3\n",
      "min of x -> 1\n",
      "index of max of x -> 1\n",
      "index min of x -> 0\n"
     ]
    }
   ],
   "source": [
    "# extrema\n",
    "x = np.array([1, 3, 2])\n",
    "print('max of x ->', x.max())\n",
    "print('min of x ->', x.min())\n",
    "print('index of max of x ->', x.argmax())\n",
    "print('index min of x ->', x.argmin())"
   ]
  },
  {
   "cell_type": "code",
   "execution_count": 79,
   "metadata": {},
   "outputs": [
    {
     "name": "stdout",
     "output_type": "stream",
     "text": [
      "False\n",
      "True\n"
     ]
    }
   ],
   "source": [
    "# logical operations\n",
    "print(np.all([True, True, False]))\n",
    "print(np.any([True, True, False]))"
   ]
  },
  {
   "cell_type": "code",
   "execution_count": 80,
   "metadata": {},
   "outputs": [
    {
     "data": {
      "text/plain": [
       "True"
      ]
     },
     "execution_count": 80,
     "metadata": {},
     "output_type": "execute_result"
    }
   ],
   "source": [
    "a = np.array([1, 2, 3, 2])\n",
    "b = np.array([2, 2, 3, 2])\n",
    "c = np.array([6, 4, 4, 5])\n",
    "((a <= b) & (b <= c)).all()"
   ]
  },
  {
   "cell_type": "code",
   "execution_count": 84,
   "metadata": {},
   "outputs": [
    {
     "name": "stdout",
     "output_type": "stream",
     "text": [
      "mean -> 1.75\n",
      "median -> [2. 5.]\n"
     ]
    }
   ],
   "source": [
    "# statistics\n",
    "x = np.array([1, 2, 3, 1])\n",
    "y = np.array([[1, 2, 3], [5, 6, 1]])\n",
    "print('mean ->',x.mean())\n",
    "print('median ->',np.median(y, axis=-1)) # last axis"
   ]
  },
  {
   "cell_type": "markdown",
   "metadata": {},
   "source": [
    "### 2.4 Broadcasting\n",
    "\n",
    "*RULES*:\n",
    "\n",
    "When operating on two arrays, NumPy compares their shapes element-wise. It starts with the trailing dimensions, and works its way forward. Two dimensions are compatible when\n",
    "\n",
    "- they are equal, or\n",
    "-    one of them is 1\n"
   ]
  },
  {
   "cell_type": "code",
   "execution_count": 89,
   "metadata": {},
   "outputs": [
    {
     "name": "stdout",
     "output_type": "stream",
     "text": [
      "[[[ 0.60924961 -1.11773379  0.42727989]\n",
      "  [ 2.03637909 -1.24650723 -1.25047365]\n",
      "  [ 0.48645453 -2.22522355 -0.66156898]]\n",
      "\n",
      " [[ 0.30925896 -0.95764133 -0.08702918]\n",
      "  [ 1.73638843 -1.08641477 -1.76478271]\n",
      "  [ 0.18646388 -2.06513108 -1.17587804]]\n",
      "\n",
      " [[ 0.39449728 -2.38746745 -1.41911824]\n",
      "  [ 1.82162675 -2.51624089 -3.09687177]\n",
      "  [ 0.2717022  -3.4949572  -2.5079671 ]]\n",
      "\n",
      " [[ 2.75214876  0.86276424  0.29862297]\n",
      "  [ 4.17927823  0.7339908  -1.37913056]\n",
      "  [ 2.62935368 -0.24472552 -0.79022589]]]\n",
      "output shape -> (4, 3, 3)\n"
     ]
    }
   ],
   "source": [
    "# example\n",
    "x = np.random.normal(0, 1, size=(4,1,3))\n",
    "y = np.random.normal(0, 1, size=(3,3))\n",
    "\n",
    "# x (3d array): 4 x 1 x 3\n",
    "# y (2d array):     3 x 3 (align starting with trailing dimensions)\n",
    "\n",
    "#last dimensions are same ,second dimensions are not same but one of them is 1. So these arrays can be broadcasted.\n",
    "\n",
    "result = x + y\n",
    "print(result)\n",
    "print('output shape ->', result.shape)"
   ]
  },
  {
   "cell_type": "code",
   "execution_count": 95,
   "metadata": {},
   "outputs": [],
   "source": [
    "# # \n",
    "#  More broadcasting examples:\n",
    " \n",
    "# A      (4d array):  8 x 1 x 6 x 1   \n",
    "# B      (3d array):      7 x 1 x 5   \n",
    "# Result (4d array):  8 x 7 x 6 x 5   \n",
    "     \n",
    "# A      (2d array):  5 x 4  \n",
    "# B      (1d array):      1   \n",
    "# Result (2d array):  5 x 4   \n",
    "\n",
    "# A      (2d array):  5 x 4  \n",
    "# B      (1d array):      4  \n",
    "# Result (2d array):  5 x 4  \n",
    "\n",
    "# A      (3d array):  15 x 3 x 5\n",
    "# B      (3d array):  15 x 1 x 5\n",
    "# Result (3d array):  15 x 3 x 5\n",
    "\n",
    "# A      (3d array):  15 x 3 x 5\n",
    "# B      (2d array):       3 x 5\n",
    "# Result (3d array):  15 x 3 x 5\n",
    "\n",
    "# A      (3d array):  15 x 3 x 5\n",
    "# B      (2d array):       3 x 1\n",
    "# Result (3d array):  15 x 3 x 5  \n",
    "# # "
   ]
  },
  {
   "cell_type": "code",
   "execution_count": 96,
   "metadata": {},
   "outputs": [],
   "source": [
    "# Examples that do not broadcast:\n",
    "# A      (1d array):  3\n",
    "# B      (1d array):  4 # trailing dimensions do not match\n",
    "\n",
    "# A      (2d array):      2 x 1\n",
    "# B      (3d array):  8 x 4 x 3 # second from last dimensions mismatched\n"
   ]
  },
  {
   "cell_type": "markdown",
   "metadata": {},
   "source": [
    "### more on broadcasting :\n",
    "http://scipy.github.io/old-wiki/pages/EricsBroadcastingDoc"
   ]
  },
  {
   "cell_type": "markdown",
   "metadata": {},
   "source": [
    "### 2.5 Array shape manipulation"
   ]
  },
  {
   "cell_type": "code",
   "execution_count": 97,
   "metadata": {},
   "outputs": [
    {
     "name": "stdout",
     "output_type": "stream",
     "text": [
      "flatten -> [1 2 3 4 5 6]\n"
     ]
    }
   ],
   "source": [
    "a = np.array([[1,2,3], [4,5,6]])\n",
    "\n",
    "#flatten\n",
    "print('flatten ->', a .ravel())"
   ]
  },
  {
   "cell_type": "code",
   "execution_count": 98,
   "metadata": {},
   "outputs": [
    {
     "name": "stdout",
     "output_type": "stream",
     "text": [
      "reshape to (2,4) [[1 2 3]\n",
      " [4 5 6]]\n"
     ]
    }
   ],
   "source": [
    "#reshape\n",
    "print( 'reshape to (2,4)', a.reshape(2, -1)) # unspecified (-1) value is inferred"
   ]
  },
  {
   "cell_type": "code",
   "execution_count": 99,
   "metadata": {},
   "outputs": [
    {
     "name": "stdout",
     "output_type": "stream",
     "text": [
      "(3,)\n",
      "(3, 1)\n"
     ]
    }
   ],
   "source": [
    "# adding one more dimension\n",
    "b = np.array([1, 2, 3])\n",
    "print(b.shape)\n",
    "c = b[:, np.newaxis]\n",
    "print(c.shape)"
   ]
  },
  {
   "cell_type": "markdown",
   "metadata": {},
   "source": [
    "### 2.6 Sorting data"
   ]
  },
  {
   "cell_type": "code",
   "execution_count": 100,
   "metadata": {},
   "outputs": [
    {
     "data": {
      "text/plain": [
       "array([[3, 4, 5],\n",
       "       [1, 1, 2]])"
      ]
     },
     "execution_count": 100,
     "metadata": {},
     "output_type": "execute_result"
    }
   ],
   "source": [
    "a = np.array([[4, 3, 5], [1, 2, 1]])\n",
    "b = np.sort(a, axis=1)\n",
    "b"
   ]
  },
  {
   "cell_type": "code",
   "execution_count": 102,
   "metadata": {},
   "outputs": [
    {
     "data": {
      "text/plain": [
       "array([[3, 4, 5],\n",
       "       [1, 1, 2]])"
      ]
     },
     "execution_count": 102,
     "metadata": {},
     "output_type": "execute_result"
    }
   ],
   "source": [
    "a.sort(axis=1) #inplace sorting\n",
    "a"
   ]
  },
  {
   "cell_type": "markdown",
   "metadata": {},
   "source": [
    "### 2.7 Casting"
   ]
  },
  {
   "cell_type": "code",
   "execution_count": 103,
   "metadata": {},
   "outputs": [
    {
     "data": {
      "text/plain": [
       "array([2.5, 3.5, 4.5])"
      ]
     },
     "execution_count": 103,
     "metadata": {},
     "output_type": "execute_result"
    }
   ],
   "source": [
    "np.array([1, 2, 3]) + 1.5 #“Bigger” type wins in mixed-type operations:"
   ]
  },
  {
   "cell_type": "code",
   "execution_count": 105,
   "metadata": {},
   "outputs": [
    {
     "name": "stdout",
     "output_type": "stream",
     "text": [
      "int64\n",
      "[4 2 3]\n",
      "int64\n"
     ]
    }
   ],
   "source": [
    "a = np.array([1, 2, 3])\n",
    "print(a.dtype)\n",
    "a[0] = 4.9 # <-- float is truncated to integer\n",
    "print(a)\n",
    "print(a.dtype)"
   ]
  },
  {
   "cell_type": "code",
   "execution_count": null,
   "metadata": {},
   "outputs": [],
   "source": []
  }
 ],
 "metadata": {
  "kernelspec": {
   "display_name": "Python 3",
   "language": "python",
   "name": "python3"
  },
  "language_info": {
   "codemirror_mode": {
    "name": "ipython",
    "version": 3
   },
   "file_extension": ".py",
   "mimetype": "text/x-python",
   "name": "python",
   "nbconvert_exporter": "python",
   "pygments_lexer": "ipython3",
   "version": "3.5.2"
  }
 },
 "nbformat": 4,
 "nbformat_minor": 2
}
